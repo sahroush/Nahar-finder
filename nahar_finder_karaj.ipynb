{
  "nbformat": 4,
  "nbformat_minor": 0,
  "metadata": {
    "colab": {
      "provenance": [],
      "authorship_tag": "ABX9TyNzrnyiEJdIalL3tnl9pVfM",
      "include_colab_link": true
    },
    "kernelspec": {
      "name": "python3",
      "display_name": "Python 3"
    },
    "language_info": {
      "name": "python"
    }
  },
  "cells": [
    {
      "cell_type": "markdown",
      "metadata": {
        "id": "view-in-github",
        "colab_type": "text"
      },
      "source": [
        "<a href=\"https://colab.research.google.com/github/sahroush/Nahar-finder/blob/karaj/nahar_finder_karaj.ipynb\" target=\"_parent\"><img src=\"https://colab.research.google.com/assets/colab-badge.svg\" alt=\"Open In Colab\"/></a>"
      ]
    },
    {
      "cell_type": "code",
      "execution_count": null,
      "metadata": {
        "id": "FodK86kjOjdH"
      },
      "outputs": [],
      "source": [
        "!pip install pyrogram\n",
        "!pip install asyncio\n",
        "!pip install tgcrypto\n",
        "!pip install colab-env --upgrade\n",
        "!more gdrive/My\\ Drive/vars.env\n",
        "import colab_env\n",
        "colab_env.envvar_handler.add_env(\"api_id\", \"insert API ID\", overwrite=True)\n",
        "colab_env.envvar_handler.add_env(\"api_hash\", \"insert API Hash\", overwrite=True)\n",
        "!rm main.py\n",
        "!curl -o main.py https://raw.githubusercontent.com/sahroush/Nahar-finder/karaj/main.py\n",
        "!python3 main.py"
      ]
    }
  ]
}